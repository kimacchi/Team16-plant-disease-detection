{
  "metadata": {
    "kernelspec": {
      "display_name": "Python 3",
      "language": "python",
      "name": "python3"
    },
    "language_info": {
      "name": "python",
      "version": "3.10.12",
      "mimetype": "text/x-python",
      "codemirror_mode": {
        "name": "ipython",
        "version": 3
      },
      "pygments_lexer": "ipython3",
      "nbconvert_exporter": "python",
      "file_extension": ".py"
    },
    "kaggle": {
      "accelerator": "nvidiaTeslaT4",
      "dataSources": [
        {
          "sourceId": 150545,
          "sourceType": "datasetVersion",
          "datasetId": 70909
        },
        {
          "sourceId": 182633,
          "sourceType": "datasetVersion",
          "datasetId": 78313
        },
        {
          "sourceId": 658267,
          "sourceType": "datasetVersion",
          "datasetId": 277323
        }
      ],
      "dockerImageVersionId": 30627,
      "isInternetEnabled": true,
      "language": "python",
      "sourceType": "notebook",
      "isGpuEnabled": true
    }
  },
  "nbformat_minor": 4,
  "nbformat": 4,
  "cells": [
    {
      "cell_type": "markdown",
      "source": "# Plant Disease Classification using VGG16",
      "metadata": {
        "_uuid": "b61aa81d-4223-4097-b9f3-08b7ddc4fb61",
        "_cell_guid": "c54ae570-0523-42cc-88be-ff2f33a0232f",
        "trusted": true,
        "collapsed": false,
        "jupyter": {
          "outputs_hidden": false
        }
      }
    },
    {
      "cell_type": "code",
      "source": "import numpy as np\nimport keras,os\nimport tensorflow as tf\nfrom tensorflow.keras.applications import VGG16\nfrom tensorflow.keras.models import Model, Sequential\nfrom tensorflow.keras.layers import Dense, Flatten, Dropout, Conv2D, MaxPool2D , Flatten\nfrom tensorflow.keras.preprocessing.image import ImageDataGenerator\nfrom tensorflow.keras.callbacks import EarlyStopping, ModelCheckpoint\nimport itertools\nfrom tensorflow.keras.layers.experimental.preprocessing import Rescaling\nfrom sklearn.metrics import precision_score, accuracy_score, recall_score, confusion_matrix, ConfusionMatrixDisplay\nimport matplotlib.pyplot as plt\n\nprint(f'TensorFlow Version: {tf.__version__}')",
      "metadata": {
        "_uuid": "eb4d0bc8-9c60-4b06-8926-2f5eb98f594e",
        "_cell_guid": "807e8056-33e6-4496-94a8-23e583efa44e",
        "trusted": true,
        "collapsed": false,
        "execution": {
          "iopub.status.busy": "2024-12-15T11:30:15.480082Z",
          "iopub.execute_input": "2024-12-15T11:30:15.480393Z",
          "iopub.status.idle": "2024-12-15T11:30:15.486409Z",
          "shell.execute_reply.started": "2024-12-15T11:30:15.480371Z",
          "shell.execute_reply": "2024-12-15T11:30:15.485469Z"
        },
        "jupyter": {
          "outputs_hidden": false
        }
      },
      "outputs": [],
      "execution_count": null
    },
    {
      "cell_type": "markdown",
      "source": "## 1. Load and Preprocess Dataset",
      "metadata": {
        "_uuid": "e7eedc47-80b8-4536-9aa2-c6fab1f9c378",
        "_cell_guid": "d613c531-d171-4367-b9b2-9a6728d52ddb",
        "trusted": true,
        "collapsed": false,
        "jupyter": {
          "outputs_hidden": false
        }
      }
    },
    {
      "cell_type": "code",
      "source": "\n# train_gen = tf.keras.preprocessing.image_dataset_from_directory(directory=\"../input/new-plant-diseases-dataset/New Plant Diseases Dataset(Augmented)/New Plant Diseases Dataset(Augmented)/train\",\n#                                          image_size=(224, 224))\n# test_gen = tf.keras.preprocessing.image_dataset_from_directory(directory=\"../input/new-plant-diseases-dataset/New Plant Diseases Dataset(Augmented)/New Plant Diseases Dataset(Augmented)/valid\",\n#                                         image_size=(224, 224))\n\ntrdata = ImageDataGenerator()\ntrain_data = trdata.flow_from_directory(directory=\"../input/new-plant-diseases-dataset/New Plant Diseases Dataset(Augmented)/New Plant Diseases Dataset(Augmented)/train\",target_size=(224,224))\ntsdata = ImageDataGenerator()\ntest_data = tsdata.flow_from_directory(directory=\"../input/new-plant-diseases-dataset/New Plant Diseases Dataset(Augmented)/New Plant Diseases Dataset(Augmented)/valid\", target_size=(224,224))",
      "metadata": {
        "_uuid": "6feb37b4-68a8-4bb5-945c-462d4f45af5a",
        "_cell_guid": "2c1b86df-2c8f-4d87-b54d-679511899445",
        "trusted": true,
        "collapsed": false,
        "execution": {
          "iopub.status.busy": "2024-12-15T11:28:07.443335Z",
          "iopub.execute_input": "2024-12-15T11:28:07.443707Z",
          "iopub.status.idle": "2024-12-15T11:29:10.521399Z",
          "shell.execute_reply.started": "2024-12-15T11:28:07.443679Z",
          "shell.execute_reply": "2024-12-15T11:29:10.520436Z"
        },
        "jupyter": {
          "outputs_hidden": false
        }
      },
      "outputs": [],
      "execution_count": null
    },
    {
      "cell_type": "code",
      "source": "model = Sequential()\nmodel.add(Conv2D(input_shape=(224,224,3),filters=64,kernel_size=(3,3),padding=\"same\", activation=\"relu\"))\nmodel.add(Conv2D(filters=64,kernel_size=(3,3),padding=\"same\", activation=\"relu\"))\nmodel.add(MaxPool2D(pool_size=(2,2),strides=(2,2)))\nmodel.add(Conv2D(filters=128, kernel_size=(3,3), padding=\"same\", activation=\"relu\"))\nmodel.add(Conv2D(filters=128, kernel_size=(3,3), padding=\"same\", activation=\"relu\"))\nmodel.add(MaxPool2D(pool_size=(2,2),strides=(2,2)))\nmodel.add(Conv2D(filters=256, kernel_size=(3,3), padding=\"same\", activation=\"relu\"))\nmodel.add(Conv2D(filters=256, kernel_size=(3,3), padding=\"same\", activation=\"relu\"))\nmodel.add(Conv2D(filters=256, kernel_size=(3,3), padding=\"same\", activation=\"relu\"))\nmodel.add(MaxPool2D(pool_size=(2,2),strides=(2,2)))\nmodel.add(Conv2D(filters=512, kernel_size=(3,3), padding=\"same\", activation=\"relu\"))\nmodel.add(Conv2D(filters=512, kernel_size=(3,3), padding=\"same\", activation=\"relu\"))\nmodel.add(Conv2D(filters=512, kernel_size=(3,3), padding=\"same\", activation=\"relu\"))\nmodel.add(MaxPool2D(pool_size=(2,2),strides=(2,2)))\nmodel.add(Conv2D(filters=512, kernel_size=(3,3), padding=\"same\", activation=\"relu\"))\nmodel.add(Conv2D(filters=512, kernel_size=(3,3), padding=\"same\", activation=\"relu\"))\nmodel.add(Conv2D(filters=512, kernel_size=(3,3), padding=\"same\", activation=\"relu\"))\nmodel.add(MaxPool2D(pool_size=(2,2),strides=(2,2)))",
      "metadata": {
        "_uuid": "a7d9ba0b-d085-464b-831a-acf7feca0c58",
        "_cell_guid": "a54dd105-91f8-4027-980d-43c6d0a02df6",
        "trusted": true,
        "collapsed": false,
        "execution": {
          "iopub.status.busy": "2024-12-15T11:29:52.747080Z",
          "iopub.execute_input": "2024-12-15T11:29:52.747813Z",
          "iopub.status.idle": "2024-12-15T11:29:52.901507Z",
          "shell.execute_reply.started": "2024-12-15T11:29:52.747781Z",
          "shell.execute_reply": "2024-12-15T11:29:52.900565Z"
        },
        "jupyter": {
          "outputs_hidden": false
        }
      },
      "outputs": [],
      "execution_count": null
    },
    {
      "cell_type": "markdown",
      "source": "## 2. Build the Model using VGG16",
      "metadata": {
        "_uuid": "b658c070-6cd6-4164-990b-e3547fc90eac",
        "_cell_guid": "44a26ffd-34a4-4e6f-b455-bd2519ab2b4a",
        "trusted": true,
        "collapsed": false,
        "jupyter": {
          "outputs_hidden": false
        }
      }
    },
    {
      "cell_type": "code",
      "source": "\nmodel.add(Flatten())\nmodel.add(Dense(units=4096,activation=\"relu\"))\nmodel.add(Dense(units=4096,activation=\"relu\"))\nmodel.add(Dense(units=38, activation=\"softmax\"))\n\n\nfrom keras.optimizers import Adam\nopt = Adam(lr=0.001)\nmodel.compile(optimizer=opt, loss=keras.losses.categorical_crossentropy, metrics=['accuracy'])\n\nmodel.summary()",
      "metadata": {
        "_uuid": "9fdcf78a-d83a-4505-a460-2e839933760d",
        "_cell_guid": "bc4f3803-fc25-45d4-9ad0-003cbdba9e75",
        "trusted": true,
        "collapsed": false,
        "execution": {
          "iopub.status.busy": "2024-12-15T11:32:15.799850Z",
          "iopub.execute_input": "2024-12-15T11:32:15.800889Z",
          "iopub.status.idle": "2024-12-15T11:32:15.908198Z",
          "shell.execute_reply.started": "2024-12-15T11:32:15.800848Z",
          "shell.execute_reply": "2024-12-15T11:32:15.907342Z"
        },
        "jupyter": {
          "outputs_hidden": false
        }
      },
      "outputs": [],
      "execution_count": null
    },
    {
      "cell_type": "markdown",
      "source": "## 3. Train the Model",
      "metadata": {
        "_uuid": "fa986c4e-478f-4a33-8dc2-d55305e4cb29",
        "_cell_guid": "7454ceeb-cc83-496d-89e7-79c094c9b296",
        "trusted": true,
        "collapsed": false,
        "jupyter": {
          "outputs_hidden": false
        }
      }
    },
    {
      "cell_type": "code",
      "source": "\ncheckpoint = ModelCheckpoint(\"vgg16_1.h5\", monitor='val_acc', verbose=1, save_best_only=True, save_weights_only=False, mode='auto', period=1)\nearly = EarlyStopping(monitor='val_acc', min_delta=0, patience=20, verbose=1, mode='auto')\nhist = model.fit_generator(steps_per_epoch=100,generator=train_data, validation_data=test_data, validation_steps=10,epochs=100,callbacks=[checkpoint,early])",
      "metadata": {
        "_uuid": "59e6dbc6-0ac1-4d70-b6a7-c8f11c359542",
        "_cell_guid": "0d92080a-9c58-41e4-b9ba-0bb1de003e34",
        "trusted": true,
        "collapsed": false,
        "execution": {
          "iopub.status.busy": "2024-12-15T11:32:20.593462Z",
          "iopub.execute_input": "2024-12-15T11:32:20.593802Z",
          "iopub.status.idle": "2024-12-15T11:34:54.516512Z",
          "shell.execute_reply.started": "2024-12-15T11:32:20.593776Z",
          "shell.execute_reply": "2024-12-15T11:34:54.515070Z"
        },
        "jupyter": {
          "outputs_hidden": false
        }
      },
      "outputs": [],
      "execution_count": null
    },
    {
      "cell_type": "markdown",
      "source": "## 4. Evaluate the Model",
      "metadata": {
        "_uuid": "26a5895d-5157-4c5a-86b9-95decddc9797",
        "_cell_guid": "3a50bf29-b05a-4d08-9b81-01ef6fe6cb32",
        "trusted": true,
        "collapsed": false,
        "jupyter": {
          "outputs_hidden": false
        }
      }
    },
    {
      "cell_type": "code",
      "source": "\nval_loss, val_acc = model.evaluate(val_data)\nprint(f'Validation Loss: {val_loss}')\nprint(f'Validation Accuracy: {val_acc}')\n\nplt.figure(figsize=(12, 6))\nplt.plot(history.history['accuracy'], label='Train Accuracy')\nplt.plot(history.history['val_accuracy'], label='Validation Accuracy')\nplt.title('Model Accuracy')\nplt.xlabel('Epochs')\nplt.ylabel('Accuracy')\nplt.legend()\nplt.show()\n\nplt.figure(figsize=(12, 6))\nplt.plot(history.history['loss'], label='Train Loss')\nplt.plot(history.history['val_loss'], label='Validation Loss')\nplt.title('Model Loss')\nplt.xlabel('Epochs')\nplt.ylabel('Loss')\nplt.legend()\nplt.show()",
      "metadata": {
        "_uuid": "88d89136-f697-47b7-beac-6bcb040ac374",
        "_cell_guid": "dc622a57-7425-46e1-9a2a-6ac35f6e54f3",
        "trusted": true,
        "collapsed": false,
        "jupyter": {
          "outputs_hidden": false
        }
      },
      "outputs": [],
      "execution_count": null
    }
  ]
}
