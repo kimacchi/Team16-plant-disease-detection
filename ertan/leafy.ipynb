{
 "cells": [
  {
   "cell_type": "code",
   "execution_count": 2,
   "metadata": {},
   "outputs": [],
   "source": [
    "import os  # Dosya ve dizin işlemleri için kullanılan standart kütüphane\n",
    "import numpy as np  # Numpy, bilimsel hesaplamalar ve diziler üzerinde işlemler için kullanılır\n",
    "import matplotlib.pyplot as plt  # Matplotlib, grafik ve görselleştirme işlemleri için kullanılır\n",
    "import tensorflow as tf  # TensorFlow, derin öğrenme modellerini oluşturmak ve eğitmek için popüler bir kütüphane\n",
    "from sklearn.model_selection import train_test_split  # Veri setlerini eğitim ve doğrulama/test olarak bölmek için\n"
   ]
  },
  {
   "cell_type": "code",
   "execution_count": 3,
   "metadata": {},
   "outputs": [
    {
     "name": "stdout",
     "output_type": "stream",
     "text": [
      "2.13.0\n"
     ]
    }
   ],
   "source": [
    "print(tf.__version__)  # TensorFlow sürümünü yazdır"
   ]
  },
  {
   "cell_type": "code",
   "execution_count": 1,
   "metadata": {},
   "outputs": [
    {
     "name": "stdout",
     "output_type": "stream",
     "text": [
      "commit çalışyor mu?\n"
     ]
    }
   ],
   "source": [
    "print(\"commit çalışyor mu?\")"
   ]
  },
  {
   "cell_type": "code",
   "execution_count": null,
   "metadata": {},
   "outputs": [],
   "source": []
  }
 ],
 "metadata": {
  "kernelspec": {
   "display_name": "Python 3",
   "language": "python",
   "name": "python3"
  },
  "language_info": {
   "codemirror_mode": {
    "name": "ipython",
    "version": 3
   },
   "file_extension": ".py",
   "mimetype": "text/x-python",
   "name": "python",
   "nbconvert_exporter": "python",
   "pygments_lexer": "ipython3",
   "version": "3.11.9"
  }
 },
 "nbformat": 4,
 "nbformat_minor": 2
}
